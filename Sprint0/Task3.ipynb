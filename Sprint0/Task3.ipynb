{
 "cells": [
  {
   "cell_type": "markdown",
   "metadata": {},
   "source": [
    "<h1 style=\"color:DodgerBlue\">Индивидальный проект</h1>"
   ]
  },
  {
   "cell_type": "markdown",
   "metadata": {},
   "source": [
    "<h2 style=\"color:DodgerBlue\">Название проекта:</h2>\n",
    "\n",
    "----\n",
    "\n",
    "### Вариант задания Вариант задания № 15\n"
   ]
  },
  {
   "cell_type": "markdown",
   "metadata": {},
   "source": [
    "<h2 style=\"color:DodgerBlue\">Описание проекта:</h2>\n",
    "\n",
    "----\n",
    "\n",
    "[ваш текст]\n",
    "\n",
    "Описание задачи:\n",
    "Создать базовый класс OrderLine в C#, который будет представлять информацию о\n",
    "строке заказа, содержащей детали одного товара в заказе. На основе этого класса\n",
    "разработать 2-3 производных класса, демонстрирующих принципы наследования и\n",
    "полиморфизма. В каждом из классов должны быть реализованы новые атрибуты и\n",
    "методы, а также переопределены некоторые методы базового класса для\n",
    "демонстрации полиморфизма.\n",
    "Требования к базовому классу OrderLine:\n",
    "• Атрибуты: ID товара (ProductId), Название товара (ProductName), Цена\n",
    "товара (Price).\n",
    "• Методы:\n",
    "o\n",
    "o CalculateTotal(): метод для расчета общей стоимости строки заказа.\n",
    "o UpdatePrice(decimal newPrice): метод для обновления цены товара в\n",
    "строке заказа.\n",
    "o GetProductDetails(): метод для получения деталей товара.\n",
    "Требования к производным классам:\n",
    "1. СтандартнаяСтрока (StandardLine): Должна содержать дополнительные\n",
    "атрибуты, такие как Количество единиц (Units). Метод CalculateTotal() должен\n",
    "быть переопределен для учета количества единиц при расчете общей\n",
    "стоимости.\n",
    "2. СпециальнаяСтрока (SpecialLine): Должна содержать дополнительные\n",
    "атрибуты, такие как Скидка (Discount). Метод UpdatePrice() должен быть\n",
    "переопределен для применения скидки к цене товара.\n",
    "3. БесплатнаяСтрока (FreeLine) (если требуется третий класс): Должна\n",
    "содержать дополнительные атрибуты, такие как Предварительный платеж\n",
    "(Prepayment). Метод CalculateTotal() должен быть переопределен для учета\n",
    "предварительного плата при расчете общей стоимости.\n"
   ]
  },
  {
   "cell_type": "markdown",
   "metadata": {},
   "source": [
    "<h2 style=\"color:DodgerBlue\">Реализация:</h2>\n",
    "\n",
    "----"
   ]
  },
  {
   "cell_type": "code",
   "execution_count": 3,
   "metadata": {
    "dotnet_interactive": {
     "language": "csharp"
    },
    "polyglot_notebook": {
     "kernelName": "csharp"
    }
   },
   "outputs": [
    {
     "name": "stdout",
     "output_type": "stream",
     "text": [
      "ID: 1, Name: Sample Product, Price: 100,0\n",
      "Total: 100,0\n",
      "Total: 100,0\n",
      "After price update: ID: 1, Name: Sample Product, Price: 120,0\n",
      "After price update: ID: 1, Name: Sample Product, Price: 120,0\n",
      "ID: 2, Name: Standard Product, Price: 50,0, Units: 3, Total: 150,0\n",
      "ID: 2, Name: Standard Product, Price: 50,0, Units: 3, Total: 150,0\n",
      "Total: 150,0\n",
      "Total: 150,0\n",
      "After price update: ID: 2, Name: Standard Product, Price: 60,0, Units: 3, Total: 180,0\n",
      "After price update: ID: 2, Name: Standard Product, Price: 60,0, Units: 3, Total: 180,0\n",
      "ID: 3, Name: Special Product, Price: 80,0, Discount: 10,0\n",
      "ID: 3, Name: Special Product, Price: 80,0, Discount: 10,0\n",
      "Total: 80,0\n",
      "Total: 80,0\n",
      "After price update: ID: 3, Name: Special Product, Price: 80,0, Discount: 10,0\n",
      "After price update: ID: 3, Name: Special Product, Price: 80,0, Discount: 10,0\n",
      "ID: 4, Name: Free Product, Price: 40,0, Prepayment: 15,0\n",
      "ID: 4, Name: Free Product, Price: 40,0, Prepayment: 15,0\n",
      "Total: 25,0\n",
      "Total: 25,0\n",
      "After price update: ID: 4, Name: Free Product, Price: 30,0, Prepayment: 15,0\n",
      "After price update: ID: 4, Name: Free Product, Price: 30,0, Prepayment: 15,0\n"
     ]
    }
   ],
   "source": [
    "public class OlderLine\n",
    "{\n",
    "    public int ProductId { get; set; }\n",
    "    public string ProductName { get; set; }\n",
    "    public decimal Price { get; set; }\n",
    "\n",
    "    public OlderLine(int productId, string productName, decimal price)\n",
    "    {\n",
    "        ProductId = productId;\n",
    "        ProductName = productName;\n",
    "        Price = price;\n",
    "    }\n",
    "\n",
    "    public virtual decimal CalculateTotal()\n",
    "    {\n",
    "        return Price;\n",
    "    }\n",
    "\n",
    "    public virtual void UpdatePrice(decimal newPrice)\n",
    "    {\n",
    "        Price = newPrice;\n",
    "    }\n",
    "\n",
    "    public virtual string GetProductDetails()\n",
    "    {\n",
    "        return $\"ID: {ProductId}, Name: {ProductName}, Price: {Price}\";\n",
    "    }\n",
    "}\n",
    "public class StandartLine : OlderLine\n",
    "{\n",
    "    public int Units { get; set; }\n",
    "\n",
    "    public StandartLine(int productId, string productName, decimal price, int units)\n",
    "        : base(productId, productName, price)\n",
    "    {\n",
    "        Units = units;\n",
    "    }\n",
    "\n",
    "    public override decimal CalculateTotal()\n",
    "    {\n",
    "        return Price * Units;\n",
    "    }\n",
    "\n",
    "    public override string GetProductDetails()\n",
    "    {\n",
    "        return base.GetProductDetails() + $\", Units: {Units}, Total: {CalculateTotal()}\";\n",
    "    }\n",
    "}\n",
    "public class SpecialLine : OlderLine\n",
    "{\n",
    "    public decimal Discount { get; set; }\n",
    "    public SpecialLine(int productId, string productName, decimal price, decimal discount) : base(productId, productName, price)\n",
    "    {\n",
    "        Discount = discount;\n",
    "    }\n",
    "\n",
    "    public override void UpdatePrice(decimal newPrice)\n",
    "    {\n",
    "        Price = newPrice - Discount;\n",
    "    }\n",
    "\n",
    "    public override string GetProductDetails()\n",
    "    {\n",
    "        return base.GetProductDetails() + $\", Discount: {Discount}\";\n",
    "    }\n",
    "}\n",
    "public class FreeLine : OlderLine\n",
    "{\n",
    "    public decimal Prepayment {get;set;}\n",
    "    public FreeLine(int productId, string productName, decimal price, decimal prepayment) : base (productId,productName, price)\n",
    "    {\n",
    "        Prepayment = prepayment;\n",
    "    }\n",
    "    public override decimal CalculateTotal()\n",
    "    {\n",
    "        return Price - Prepayment;\n",
    "    }\n",
    "\n",
    "    public override string GetProductDetails()\n",
    "    {\n",
    "        return base.GetProductDetails() + $\", Prepayment: {Prepayment}\";\n",
    "    }\n",
    "\n",
    "}\n",
    "\n",
    "OlderLine olderLine = new OlderLine(1, \"Sample Product\", 100.0m);\n",
    "Console.WriteLine(olderLine.GetProductDetails());\n",
    "Console.WriteLine(\"Total: \" + olderLine.CalculateTotal());\n",
    "olderLine.UpdatePrice(120.0m);\n",
    "Console.WriteLine(\"After price update: \" + olderLine.GetProductDetails());\n",
    "\n",
    "StandartLine standartLine = new StandartLine(2, \"Standard Product\", 50.0m, 3);\n",
    "Console.WriteLine(standartLine.GetProductDetails());\n",
    "Console.WriteLine(\"Total: \" + standartLine.CalculateTotal());\n",
    "standartLine.UpdatePrice(60.0m);\n",
    "Console.WriteLine(\"After price update: \" + standartLine.GetProductDetails());\n",
    "\n",
    "\n",
    "SpecialLine specialLine = new SpecialLine(3, \"Special Product\", 80.0m, 10.0m);\n",
    "Console.WriteLine(specialLine.GetProductDetails());\n",
    "Console.WriteLine(\"Total: \" + specialLine.CalculateTotal());\n",
    "specialLine.UpdatePrice(90.0m);\n",
    "Console.WriteLine(\"After price update: \" + specialLine.GetProductDetails());\n",
    "\n",
    "\n",
    "FreeLine freeLine = new FreeLine(4, \"Free Product\", 40.0m, 15.0m);\n",
    "Console.WriteLine(freeLine.GetProductDetails());\n",
    "Console.WriteLine(\"Total: \" + freeLine.CalculateTotal());\n",
    "freeLine.UpdatePrice(30.0m);\n",
    "Console.WriteLine(\"After price update: \" + freeLine.GetProductDetails());\n"
   ]
  }
 ],
 "metadata": {
  "kernelspec": {
   "display_name": ".NET (C#)",
   "language": "C#",
   "name": ".net-csharp"
  },
  "polyglot_notebook": {
   "kernelInfo": {
    "defaultKernelName": "csharp",
    "items": [
     {
      "aliases": [],
      "languageName": "csharp",
      "name": "csharp"
     }
    ]
   }
  }
 },
 "nbformat": 4,
 "nbformat_minor": 2
}
