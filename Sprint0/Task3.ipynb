{
 "cells": [
  {
   "cell_type": "markdown",
   "metadata": {},
   "source": [
    "<h1 style=\"color:DodgerBlue\">Индивидальный проект</h1>"
   ]
  },
  {
   "cell_type": "markdown",
   "metadata": {},
   "source": [
    "<h2 style=\"color:DodgerBlue\">Название проекта:</h2>\n",
    "\n",
    "----\n",
    "\n",
    "### Вариант задания Вариант задания № 15\n"
   ]
  },
  {
   "cell_type": "markdown",
   "metadata": {},
   "source": [
    "<h2 style=\"color:DodgerBlue\">Описание проекта:</h2>\n",
    "\n",
    "----\n",
    "\n",
    "[ваш текст]\n",
    "\n",
    "Описание задачи:\n",
    "Создать базовый класс OrderLine в C#, который будет представлять информацию о\n",
    "строке заказа, содержащей детали одного товара в заказе. На основе этого класса\n",
    "разработать 2-3 производных класса, демонстрирующих принципы наследования и\n",
    "полиморфизма. В каждом из классов должны быть реализованы новые атрибуты и\n",
    "методы, а также переопределены некоторые методы базового класса для\n",
    "демонстрации полиморфизма.\n",
    "Требования к базовому классу OrderLine:\n",
    "• Атрибуты: ID товара (ProductId), Название товара (ProductName), Цена\n",
    "товара (Price).\n",
    "• Методы:\n",
    "o\n",
    "o CalculateTotal(): метод для расчета общей стоимости строки заказа.\n",
    "o UpdatePrice(decimal newPrice): метод для обновления цены товара в\n",
    "строке заказа.\n",
    "o GetProductDetails(): метод для получения деталей товара.\n",
    "Требования к производным классам:\n",
    "1. СтандартнаяСтрока (StandardLine): Должна содержать дополнительные\n",
    "атрибуты, такие как Количество единиц (Units). Метод CalculateTotal() должен\n",
    "быть переопределен для учета количества единиц при расчете общей\n",
    "стоимости.\n",
    "2. СпециальнаяСтрока (SpecialLine): Должна содержать дополнительные\n",
    "атрибуты, такие как Скидка (Discount). Метод UpdatePrice() должен быть\n",
    "переопределен для применения скидки к цене товара.\n",
    "3. БесплатнаяСтрока (FreeLine) (если требуется третий класс): Должна\n",
    "содержать дополнительные атрибуты, такие как Предварительный платеж\n",
    "(Prepayment). Метод CalculateTotal() должен быть переопределен для учета\n",
    "предварительного плата при расчете общей стоимости.\n"
   ]
  },
  {
   "cell_type": "markdown",
   "metadata": {},
   "source": [
    "<h2 style=\"color:DodgerBlue\">Реализация:</h2>\n",
    "\n",
    "----"
   ]
  },
  {
   "cell_type": "code",
   "execution_count": 8,
   "metadata": {
    "dotnet_interactive": {
     "language": "csharp"
    },
    "polyglot_notebook": {
     "kernelName": "csharp"
    }
   },
   "outputs": [],
   "source": [
    "public class OlderLine\n",
    "{\n",
    "    public int ProductId { get; set; }\n",
    "    public string ProductName { get; set; }\n",
    "    public decimal Price { get; set; }\n",
    "\n",
    "    public OlderLine(int productId, string productName, decimal price)\n",
    "    {\n",
    "        ProductId = productId;\n",
    "        ProductName = productName;\n",
    "        Price = price;\n",
    "    }\n",
    "\n",
    "    public virtual decimal CalculateTotal()\n",
    "    {\n",
    "        return Price;\n",
    "    }\n",
    "\n",
    "    public virtual void UpdatePrice(decimal newPrice)\n",
    "    {\n",
    "        Price = newPrice;\n",
    "    }\n",
    "\n",
    "    public virtual string GetProductDetails()\n",
    "    {\n",
    "        return $\"ID: {ProductId}, Name: {ProductName}, Price: {Price}\";\n",
    "    }\n",
    "}\n",
    "public class StandartLine : OlderLine\n",
    "{\n",
    "    public int Units { get; set; }\n",
    "\n",
    "    public StandartLine(int productId, string productName, decimal price, int units)\n",
    "        : base(productId, productName, price)\n",
    "    {\n",
    "        Units = units;\n",
    "    }\n",
    "\n",
    "    public override decimal CalculateTotal()\n",
    "    {\n",
    "        return Price * Units;\n",
    "    }\n",
    "\n",
    "    public override string GetProductDetails()\n",
    "    {\n",
    "        return base.GetProductDetails() + $\", Units: {Units}, Total: {CalculateTotal()}\";\n",
    "    }\n",
    "}\n",
    "public class SpecialLine : OlderLine\n",
    "{\n",
    "    public decimal Discount { get; set; }\n",
    "    public SpecialLine(int productId, string productName, decimal price, decimal discount) : base(productId, productName, price)\n",
    "    {\n",
    "        Discount = discount;\n",
    "    }\n",
    "\n",
    "    public override void UpdatePrice(decimal newPrice)\n",
    "    {\n",
    "        Price = newPrice - Discount;\n",
    "    }\n",
    "\n",
    "    public override string GetProductDetails()\n",
    "    {\n",
    "        return base.GetProductDetails() + $\", Discount: {Discount}\";\n",
    "    }\n",
    "}\n",
    "public class FreeLine : OlderLine\n",
    "{\n",
    "    public decimal Prepayment {get;set;}\n",
    "    public FreeLine(int productId, string productName, decimal price, decimal prepayment) : base (productId,productName, price)\n",
    "    {\n",
    "        Prepayment = prepayment;\n",
    "    }\n",
    "    public override decimal CalculateTotal()\n",
    "    {\n",
    "        return Price - Prepayment;\n",
    "    }\n",
    "\n",
    "    public override string GetProductDetails()\n",
    "    {\n",
    "        return base.GetProductDetails() + $\", Prepayment: {Prepayment}\";\n",
    "    }\n",
    "\n",
    "}\n"
   ]
  }
 ],
 "metadata": {
  "kernelspec": {
   "display_name": ".NET (C#)",
   "language": "C#",
   "name": ".net-csharp"
  },
  "polyglot_notebook": {
   "kernelInfo": {
    "defaultKernelName": "csharp",
    "items": [
     {
      "aliases": [],
      "languageName": "csharp",
      "name": "csharp"
     }
    ]
   }
  }
 },
 "nbformat": 4,
 "nbformat_minor": 2
}
