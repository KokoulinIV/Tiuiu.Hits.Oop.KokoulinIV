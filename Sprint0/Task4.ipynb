{
 "cells": [
  {
   "cell_type": "code",
   "execution_count": null,
   "id": "aa8349f3",
   "metadata": {
    "language_info": {
     "name": "polyglot-notebook"
    },
    "polyglot_notebook": {
     "kernelName": "csharp"
    }
   },
   "outputs": [
    {
     "name": "stdout",
     "output_type": "stream",
     "text": [
      "Растение Куст  типа Куст высотой 15\n",
      "Растение Куст  типа Куст высотой 15 цвета Красный и числом липестков 25  цветет и пахнет\n",
      "Растение Куст  типа Куст высотой 15 цвета Красный и числом липестков 25  уведает\n",
      "Растение Куст  типа Куст высотой 15  возрастом 102 и типом листьев Тонкие цветет\n",
      "Дерево Куст, типа Куст , высотой 15 стало старше на 20 лет , теперь его возраст 122\n"
     ]
    }
   ],
   "source": [
    "public class Plant\n",
    "{\n",
    "    public string Name {get;set;}\n",
    "    public string Type {get;set;}\n",
    "    public float H {get;set;}\n",
    "    public Plant(string name,string type, float h)\n",
    "    {\n",
    "        Name = name ;\n",
    "        Type =type ;\n",
    "        H=h;\n",
    "    }\n",
    "\n",
    "    public  virtual string Chvet ()\n",
    "    {\n",
    "        return $\"Растение {Name}  типа {Type} высотой {H}\";\n",
    "    }\n",
    "    public virtual float Rost(float newH)\n",
    "    {\n",
    "        return H += newH;\n",
    "    }\n",
    "    \n",
    "}\n",
    "\n",
    "public class Flower : Plant \n",
    "\n",
    "{\n",
    "    public string Color {get;set;}\n",
    "    public int Count {get;set;}\n",
    "    public Flower (string name, string type , float h, string color, int count ): base (name,type,h)\n",
    "    {\n",
    "        Color = color;\n",
    "        Count = count;\n",
    "    }\n",
    "\n",
    "    public override string Chvet()\n",
    "    {\n",
    "        return base.Chvet() + $\" цвета {Color} и числом липестков {Count}  цветет и пахнет\";\n",
    "    }\n",
    "\n",
    "\n",
    "    public string Yved()\n",
    "    {\n",
    "        return base.Chvet() + $\" цвета {Color} и числом липестков {Count}  уведает\";\n",
    "    }\n",
    "\n",
    "\n",
    "}\n",
    "\n",
    "\n",
    "public class Tree: Plant \n",
    "{\n",
    "    public int Age {get;set;}\n",
    "    public string TypeList {get;set;}\n",
    "\n",
    "    public Tree (string name ,string type, float h, int age, string typelist) : base (name,type , h)\n",
    "    {\n",
    "        Age = age;\n",
    "        TypeList = typelist;\n",
    "    }\n",
    "\n",
    "    public override string Chvet()\n",
    "    {\n",
    "        return base.Chvet() + $\"  возрастом {Age} и типом листьев {TypeList} цветет\";\n",
    "    }\n",
    "    public string NewAge(int newAge)\n",
    "    {\n",
    "        Age += newAge;\n",
    "        return $\"Дерево {Name}, типа {Type} , высотой {H} стало старше на {newAge} лет , теперь его возраст {Age}\";\n",
    "    }\n",
    "}\n",
    "\n",
    "string name = \"Куст\";\n",
    "string type = \"Куст\";\n",
    "float h = 15;\n",
    "\n",
    "Plant plant = new Plant(name,type,h);\n",
    "Console.WriteLine(plant.Chvet());\n",
    "\n",
    "string color = \"Красный\";\n",
    "int count = 25;\n",
    "\n",
    "Flower flower = new Flower(name,type,h,color,count);\n",
    "Console.WriteLine(flower.Chvet());\n",
    "Console.WriteLine(flower.Yved());\n",
    "int age = 102;\n",
    "string typelist = \"Тонкие\";\n",
    "Tree tree = new Tree(name,type,h,age,typelist);\n",
    "int newAge = 20;\n",
    "Console.WriteLine(tree.Chvet());\n",
    "Console.WriteLine(tree.NewAge(newAge));\n",
    "\n",
    "\n"
   ]
  }
 ],
 "metadata": {
  "kernelspec": {
   "display_name": ".NET (C#)",
   "language": "C#",
   "name": ".net-csharp"
  },
  "language_info": {
   "name": "polyglot-notebook",
   "version": "3.12.3"
  },
  "polyglot_notebook": {
   "kernelInfo": {
    "defaultKernelName": "csharp",
    "items": [
     {
      "aliases": [],
      "name": "csharp"
     }
    ]
   }
  }
 },
 "nbformat": 4,
 "nbformat_minor": 5
}
