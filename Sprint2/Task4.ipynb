{
 "cells": [
  {
   "cell_type": "code",
   "execution_count": 17,
   "id": "de0abfdb",
   "metadata": {
    "language_info": {
     "name": "polyglot-notebook"
    },
    "polyglot_notebook": {
     "kernelName": "csharp"
    }
   },
   "outputs": [
    {
     "name": "stdout",
     "output_type": "stream",
     "text": [
      "Имя: Алексей, Должность: Разработчик, Зарплата: 80000\n",
      "Имя: Елена, Должность: Менеджер, Зарплата: 120000, Отдел: Продажи\n",
      "Имя: Елена, Должность: Менеджер, Зарплата: 120000, Отдел: Продажи\n",
      "Команда проекта Сайт :\n",
      "Команда проекта Сайт :\n",
      "- Имя: Алексей, Должность: Разработчик, Зарплата: 80000\n",
      "- Имя: Алексей, Должность: Разработчик, Зарплата: 80000\n",
      "- Имя: Елена, Должность: Менеджер, Зарплата: 120000, Отдел: Продажи\n",
      "- Имя: Елена, Должность: Менеджер, Зарплата: 120000, Отдел: Продажи\n"
     ]
    }
   ],
   "source": [
    "public interface IReportable\n",
    "{\n",
    "    string GenerateReport();\n",
    "}\n",
    "public interface ITeamLeader\n",
    "{\n",
    "    void GetTeamMembers();\n",
    "}\n",
    "\n",
    "public class Employee \n",
    "{\n",
    "    protected string Name {get; set;}\n",
    "    protected string Position {get; set;}\n",
    "    protected decimal Salary {get; set;}\n",
    "    public Employee(string name, string position, decimal salary)\n",
    "    {\n",
    "        Name = name;\n",
    "        Position = position;\n",
    "        Salary = salary;\n",
    "    }\n",
    "    public virtual string PrintInfo()\n",
    "    {\n",
    "        return $\"Имя: {Name}, Должность: {Position}, Зарплата: {Salary}\";\n",
    "    }\n",
    "}\n",
    "\n",
    "public class Manager : Employee\n",
    "{\n",
    "    protected string Department {get; set;}\n",
    "\n",
    "    public Manager(string name, decimal salary, string department)\n",
    "        : base(name, \"Менеджер\", salary)\n",
    "    {\n",
    "        Department = department;\n",
    "    }\n",
    "    public override string PrintInfo()\n",
    "    {\n",
    "        return base.PrintInfo() + $\", Отдел: {Department}\";\n",
    "    }\n",
    "}\n",
    "public class ProjectManager : Manager , IReportable, ITeamLeader \n",
    "{\n",
    "    protected string ProjectName {get; set;}\n",
    "    private List<Employee> teamMembers = new List<Employee>();\n",
    "    public ProjectManager(string name, decimal salary, string department, string projectName)\n",
    "        : base(name, salary, department)\n",
    "    {\n",
    "        ProjectName = projectName;\n",
    "        \n",
    "    }\n",
    "    public void AddTeamMember(Employee memberName)\n",
    "    {\n",
    "        if (!teamMembers.Contains(memberName))\n",
    "            teamMembers.Add(memberName);\n",
    "    }\n",
    "    public override string PrintInfo()\n",
    "    {\n",
    "        return base.PrintInfo() + $\", Название проекта: {ProjectName}\";\n",
    "    }\n",
    "\n",
    "    public string GenerateReport()\n",
    "    {\n",
    "        return $\"Отчет по проекту: {ProjectName} подготовлен менеджером {Name}\";\n",
    "    }\n",
    "    \n",
    "    public void GetTeamMembers()\n",
    "    {\n",
    "        System.Console.WriteLine($\"Команда проекта {ProjectName} :\");\n",
    "        foreach (var member in teamMembers)\n",
    "        {\n",
    "            System.Console.WriteLine($\"- {member.PrintInfo()}\");\n",
    "        }\n",
    "    }\n",
    "}\n",
    "\n",
    "Employee emp = new Employee(\"Алексей\", \"Разработчик\", 80000);\n",
    "System.Console.WriteLine(emp.PrintInfo());\n",
    "Manager mgr = new Manager(\"Елена\", 120000, \"Продажи\");\n",
    "System.Console.WriteLine(mgr.PrintInfo());\n",
    "ProjectManager pm = new ProjectManager(\"Иван\", 100000, \"IT\", \"Сайт\");\n",
    "pm.AddTeamMember(emp);\n",
    "pm.AddTeamMember(mgr);\n",
    "pm.GetTeamMembers();"
   ]
  }
 ],
 "metadata": {
  "kernelspec": {
   "display_name": ".NET (C#)",
   "language": "C#",
   "name": ".net-csharp"
  },
  "language_info": {
   "name": "polyglot-notebook"
  },
  "polyglot_notebook": {
   "kernelInfo": {
    "defaultKernelName": "csharp",
    "items": [
     {
      "aliases": [],
      "name": "csharp"
     }
    ]
   }
  }
 },
 "nbformat": 4,
 "nbformat_minor": 5
}
